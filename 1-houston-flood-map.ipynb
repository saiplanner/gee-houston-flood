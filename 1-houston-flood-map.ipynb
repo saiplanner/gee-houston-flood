{
 "cells": [
  {
   "cell_type": "markdown",
   "metadata": {},
   "source": [
    "# Exploring Sentinel-1 radar for Hurricane Harvey Flood Mapping\n",
    "\n",
    "Motivated by:\n",
    "Chini, Marco, Ramona Pelich, Luca Pulvirenti, Nazzareno Pierdicca, Renaud Hostache, and Patrick Matgen. “Sentinel-1 InSAR Coherence to Detect Floodwater in Urban Areas: Houston and Hurricane Harvey as A Test Case.” ​Remote Sensing​ 11, no. 2 (January 9, 2019): 107. https://www.mdpi.com/2072-4292/11/2/107.\n",
    "\n",
    "Relevant background (from above paper):\n",
    "Category 4 hurricane Harvey’s **first landfall on 25 August 2017** on San Jose Island, Texas. After hitting the Texas mainland on the same day, Harvey weakened to a tropical storm and its speed reduced. As it was only progressing slowly, the amount of rainfall in the region became extremely high and the volume of water took days to drain through rivers, causing widespread catastrophic flooding, most notably in the Houston metropolitan area. The local National Weather Service office in Houston observed **daily rainfall accumulations of 370 mm and 4018 mm on August 26 and 27, respectively**. A total precipitation of 1539 mm in the city of Nederland in southeast Texas, makes Hurricane Harvey the wettest tropical cyclone on record in the United States [43]. As a result, the Houston bayous burst their banks for several days, which led to substantial large-scale flooding, especially to the north and east of the Houston area. The total economic loss from the event amounted to about US$125 billion, with more than 30,000 people evacuated from their homes, more than 17,000 rescues prompted and 106 confirmed deaths in the United States. Hurricane Harvey ties with Hurricane Katrina (2005) as the costliest tropical cyclone on record [44].\n",
    "\n",
    "Goal: explore flood classification / damaged buildings. Possibly use images from Chini study IW (20m):\n",
    "\n",
    "    * 18 August 2017 - 24 August 2017 IW VV\n",
    "    * 24 August 2017 - 30  August 2018 IW HH"
   ]
  },
  {
   "cell_type": "code",
   "execution_count": 1,
   "metadata": {},
   "outputs": [],
   "source": [
    "# If you get an error here you probably need to authenticate:\n",
    "#https://github.com/google/earthengine-api/blob/master/python/examples/ipynb/authorize_notebook_server.ipynb\n",
    "import geopandas as gpd\n",
    "import ipyleaflet\n",
    "from ipyleaflet import Map, basemaps, basemap_to_tiles, SplitMapControl\n",
    "import shapely\n",
    "import json\n",
    "import ee\n",
    "ee.Initialize()"
   ]
  },
  {
   "cell_type": "markdown",
   "metadata": {},
   "source": [
    "## Show area and time of interest"
   ]
  },
  {
   "cell_type": "code",
   "execution_count": 2,
   "metadata": {},
   "outputs": [],
   "source": [
    "gf = gpd.read_file('aoi.geojson')\n",
    "coordlist = list(gf.geometry[0].exterior.coords)"
   ]
  },
  {
   "cell_type": "code",
   "execution_count": 3,
   "metadata": {},
   "outputs": [
    {
     "data": {
      "text/plain": [
       "[(-96.9268798828125, 28.502488316130417),\n",
       " (-94.12261962890625, 28.502488316130417),\n",
       " (-94.12261962890625, 30.0286775329042),\n",
       " (-96.9268798828125, 30.0286775329042),\n",
       " (-96.9268798828125, 28.502488316130417)]"
      ]
     },
     "execution_count": 3,
     "metadata": {},
     "output_type": "execute_result"
    }
   ],
   "source": [
    "coordlist"
   ]
  },
  {
   "cell_type": "code",
   "execution_count": 4,
   "metadata": {},
   "outputs": [
    {
     "data": {
      "text/plain": [
       "[(28.502488316130417, -96.9268798828125),\n",
       " (28.502488316130417, -94.12261962890625),\n",
       " (30.0286775329042, -94.12261962890625),\n",
       " (30.0286775329042, -96.9268798828125),\n",
       " (28.502488316130417, -96.9268798828125)]"
      ]
     },
     "execution_count": 4,
     "metadata": {},
     "output_type": "execute_result"
    }
   ],
   "source": [
    "# ipyleaflet takes (lat,lon coords annoyingly)\n",
    "def swap_coordinate_xy_for_location(coord):\n",
    "    return (coord[1],coord[0])\n",
    "\n",
    "def swap_coordinate_xy_for_list(coord_list):\n",
    "    return [swap_coordinate_xy_for_location(coord) for coord in coord_list]  \n",
    "\n",
    "swap_coordinate_xy_for_list(coordlist)"
   ]
  },
  {
   "cell_type": "code",
   "execution_count": 5,
   "metadata": {},
   "outputs": [
    {
     "data": {
      "application/vnd.jupyter.widget-view+json": {
       "model_id": "798384d1b776435180bbe90b9c3ee445",
       "version_major": 2,
       "version_minor": 0
      },
      "text/plain": [
       "Map(basemap={'url': 'https://{s}.tile.openstreetmap.org/{z}/{x}/{y}.png', 'max_zoom': 19, 'attribution': 'Map …"
      ]
     },
     "metadata": {},
     "output_type": "display_data"
    }
   ],
   "source": [
    "p_houston = (-95.3698, 29.7604)\n",
    "m = Map(center=swap_coordinate_xy_for_location(p_houston), zoom=5)\n",
    "\n",
    "right_layer = basemap_to_tiles(basemaps.NASAGIBS.ModisTerraTrueColorCR, \"2017-08-30\")\n",
    "left_layer = ipyleaflet.TileLayer()\n",
    "control = SplitMapControl(left_layer=left_layer, right_layer=right_layer)\n",
    "m.add_control(control)\n",
    "\n",
    "polygon = ipyleaflet.Polygon(locations=swap_coordinate_xy_for_list(coordlist), color=\"red\")\n",
    "m.add_layer(polygon)\n",
    "\n",
    "m"
   ]
  },
  {
   "cell_type": "markdown",
   "metadata": {},
   "source": [
    "## Load Sentinel-1 Google Earth Engine Dataset"
   ]
  },
  {
   "cell_type": "code",
   "execution_count": 6,
   "metadata": {},
   "outputs": [],
   "source": [
    "# Google Earth Engine Tiles!\n",
    "def GetTileLayerUrl(ee_image_object):\n",
    "    map_id = ee.Image(ee_image_object).getMapId()\n",
    "    tile_url_template = \"https://earthengine.googleapis.com/map/{mapid}/{{z}}/{{x}}/{{y}}?token={token}\"\n",
    "    \n",
    "    return tile_url_template.format(**map_id)"
   ]
  },
  {
   "cell_type": "code",
   "execution_count": 7,
   "metadata": {},
   "outputs": [],
   "source": [
    "def ReplaceOverlayLayers(map_object, ee_image_object):\n",
    "    ''' Will update existing map '''\n",
    "    for lyr in map_object.layers[1:]:\n",
    "        map_object.remove_layer(lyr)\n",
    "    tile_url = GetTileLayerUrl(ee_image_object)\n",
    "    map_object.add_layer(ipyleaflet.TileLayer(url=tile_url))"
   ]
  },
  {
   "cell_type": "code",
   "execution_count": 8,
   "metadata": {},
   "outputs": [],
   "source": [
    "#https://developers.google.com/earth-engine/sentinel1\n",
    "s1 = ee.ImageCollection('COPERNICUS/S1_GRD')"
   ]
  },
  {
   "cell_type": "code",
   "execution_count": 9,
   "metadata": {},
   "outputs": [],
   "source": [
    "# More sophisticated filters\n",
    "site = ee.Geometry.Polygon(coordlist)\n",
    "orbitDir = ee.Filter.eq('orbitProperties_pass', 'DESCENDING')\n",
    "polarization = ee.Filter.listContains('transmitterReceiverPolarisation', 'VV')\n",
    "mode = ee.Filter.eq('instrumentMode', 'IW')\n",
    "orbit = ee.Filter.eq('relativeOrbitNumber_start', 143) #ASCENDING 34 also worth checking out!\n",
    "resolution = ee.Filter.eq('resolution_meters', 10)\n",
    "dates = ee.Filter.date('2017-08-01', '2017-08-31') #landfal August 25. \n",
    "\n",
    "collection = (s1\n",
    "              .filterBounds(site)\n",
    "              #.filterDate('2016-10-01', '2017-09-30')\n",
    "              .filter(dates)\n",
    "              .filter(orbitDir)\n",
    "              .filter(orbit)\n",
    "              .filter(mode)\n",
    "              .filter(polarization)\n",
    "              .select('VV')\n",
    "             )\n",
    "\n",
    "sample_image = collection.first()\n",
    "              \n",
    "\n",
    "viz_params = {'bands':'VV', \n",
    "              'min': -25, \n",
    "              'max': 0, \n",
    "              'opacity': 0.6}"
   ]
  },
  {
   "cell_type": "code",
   "execution_count": 10,
   "metadata": {},
   "outputs": [],
   "source": [
    "# get timestamps of images matching search\n",
    "def get_timestamps(collection):\n",
    "    imageList = ee.List(collection.toList(collection.size()))\n",
    "    timestamps = imageList.map(lambda img: ee.Image(img).date().format())#.format('Y-m-d'))\n",
    "    return timestamps"
   ]
  },
  {
   "cell_type": "code",
   "execution_count": 11,
   "metadata": {},
   "outputs": [],
   "source": [
    "def get_ids(collection):\n",
    "    imageList = ee.List(collection.toList(collection.size()))\n",
    "    ids = imageList.map(lambda img: ee.Image(img).id())\n",
    "    return ids"
   ]
  },
  {
   "cell_type": "code",
   "execution_count": 12,
   "metadata": {},
   "outputs": [
    {
     "data": {
      "text/plain": [
       "[('2017-08-06T12:22:05',\n",
       "  'S1A_IW_GRDH_1SDV_20170812T122247_20170812T122317_017890_01E004_81E4'),\n",
       " ('2017-08-12T12:22:47',\n",
       "  'S1A_IW_GRDH_1SDV_20170824T122248_20170824T122318_018065_01E54E_A87C'),\n",
       " ('2017-08-18T12:22:05',\n",
       "  'S1B_IW_GRDH_1SDV_20170806T122205_20170806T122235_006819_00C006_6D40'),\n",
       " ('2017-08-24T12:22:48',\n",
       "  'S1B_IW_GRDH_1SDV_20170818T122205_20170818T122235_006994_00C525_B566'),\n",
       " ('2017-08-30T12:22:03',\n",
       "  'S1B_IW_GRDH_1SDV_20170830T122203_20170830T122232_007169_00CA2C_E7BF'),\n",
       " ('2017-08-30T12:22:32',\n",
       "  'S1B_IW_GRDH_1SDV_20170830T122232_20170830T122257_007169_00CA2C_CC8C')]"
      ]
     },
     "execution_count": 12,
     "metadata": {},
     "output_type": "execute_result"
    }
   ],
   "source": [
    "#NOTE that adjacent frames are in this AOI and therefore same collection\n",
    "# from chini, pre= 2017-08-24T12:22:48  post = 2017-08-30T12:22:03\n",
    "timestamps = get_timestamps(collection)\n",
    "ts = timestamps.getInfo()\n",
    "ts.sort()\n",
    "ids = get_ids(collection)\n",
    "ids = ids.getInfo()\n",
    "ids.sort()\n",
    "list(zip(ts,ids))"
   ]
  },
  {
   "cell_type": "markdown",
   "metadata": {},
   "source": [
    "## For now, pick two images... \n",
    "\n",
    "### before: 2017-08-24T12:22:48\n",
    "### after:  2017-08-30T12:22:03"
   ]
  },
  {
   "cell_type": "code",
   "execution_count": 13,
   "metadata": {},
   "outputs": [],
   "source": [
    "pre_image = ee.Image('COPERNICUS/S1_GRD/S1B_IW_GRDH_1SDV_20170818T122205_20170818T122235_006994_00C525_B566')\n",
    "#pre_image.getInfo() all metadata"
   ]
  },
  {
   "cell_type": "code",
   "execution_count": 14,
   "metadata": {},
   "outputs": [],
   "source": [
    "post_image = ee.Image('COPERNICUS/S1_GRD/S1B_IW_GRDH_1SDV_20170830T122203_20170830T122232_007169_00CA2C_E7BF')\n",
    "#post_image.getInfo()"
   ]
  },
  {
   "cell_type": "markdown",
   "metadata": {},
   "source": [
    "### Display pre-hurricane image"
   ]
  },
  {
   "cell_type": "code",
   "execution_count": 15,
   "metadata": {},
   "outputs": [
    {
     "data": {
      "application/vnd.jupyter.widget-view+json": {
       "model_id": "3d28452b2be449219c2425dc5bad7a21",
       "version_major": 2,
       "version_minor": 0
      },
      "text/plain": [
       "Map(basemap={'url': 'https://{s}.tile.openstreetmap.org/{z}/{x}/{y}.png', 'max_zoom': 19, 'attribution': 'Map …"
      ]
     },
     "metadata": {},
     "output_type": "display_data"
    }
   ],
   "source": [
    "image_centroid = tuple(site.centroid().getInfo()['coordinates'][::-1])\n",
    "\n",
    "map1 = ipyleaflet.Map(zoom=8, center=image_centroid, layout=dict(height='500px',width='1000px'))\n",
    "#dc = ipyleaflet.DrawControl()\n",
    "#map1.add_control(dc)\n",
    "\n",
    "\n",
    "ee_image_object = pre_image.visualize(**viz_params)\n",
    "#ee_image_object = post_image.visualize(**viz_params)\n",
    "map1.add_layer(\n",
    "    ipyleaflet.TileLayer(url=GetTileLayerUrl(ee_image_object))\n",
    ")\n",
    "\n",
    "polygon = ipyleaflet.Polygon(locations=swap_coordinate_xy_for_list(coordlist), color=\"red\", fill=False)\n",
    "map1.add_layer(polygon)\n",
    "\n",
    "map1"
   ]
  },
  {
   "cell_type": "markdown",
   "metadata": {},
   "source": [
    "### Display split view (pre-event image on left, post-event on right)"
   ]
  },
  {
   "cell_type": "code",
   "execution_count": 16,
   "metadata": {},
   "outputs": [
    {
     "data": {
      "application/vnd.jupyter.widget-view+json": {
       "model_id": "3a45f35060424850a4d531f1501eb53b",
       "version_major": 2,
       "version_minor": 0
      },
      "text/plain": [
       "Map(basemap={'url': 'https://{s}.tile.openstreetmap.org/{z}/{x}/{y}.png', 'max_zoom': 19, 'attribution': 'Map …"
      ]
     },
     "metadata": {},
     "output_type": "display_data"
    }
   ],
   "source": [
    "# Split view downtown houston, before flooding on left, after flooding on right\n",
    "# Simple thresholding to highlight pixels that experienced a big drop in backscatter (open field --> flood scenario)\n",
    "# In urban areas we might get opposite trend (double bounce causes increase in backscatter)\n",
    "\n",
    "# NOTE: there still may be orthorectification errors in which case rubber sheeting can be used for fine-scale offsets:\n",
    "#https://developers.google.com/earth-engine/register\n",
    "\n",
    "# NOTE: should also probably do some sort of histogram normalization\n",
    "\n",
    "m = ipyleaflet.Map(zoom=12, center=swap_coordinate_xy_for_location(p_houston), layout=dict(height='500px',width='1000px'))\n",
    "#dc = ipyleaflet.DrawControl()\n",
    "#map1.add_control(dc)\n",
    "viz_params = {'bands':'VV', \n",
    "              'min': -25, \n",
    "              'max': 0, \n",
    "              'opacity': 1} # no opacity for this one\n",
    "\n",
    "\n",
    "#left_layer = ipyleaflet.TileLayer() # OSM\n",
    "ee_image_object = pre_image.visualize(**viz_params)\n",
    "left_layer = ipyleaflet.TileLayer(url=GetTileLayerUrl(ee_image_object))\n",
    "ee_image_object = post_image.visualize(**viz_params)\n",
    "right_layer = ipyleaflet.TileLayer(url=GetTileLayerUrl(ee_image_object))\n",
    "\n",
    "control = SplitMapControl(left_layer=left_layer, right_layer=right_layer)\n",
    "m.add_control(control)\n",
    "m"
   ]
  },
  {
   "cell_type": "markdown",
   "metadata": {},
   "source": [
    "### Display crude water mask based on backscatter threshold of pre-event image"
   ]
  },
  {
   "cell_type": "code",
   "execution_count": 17,
   "metadata": {},
   "outputs": [
    {
     "data": {
      "application/vnd.jupyter.widget-view+json": {
       "model_id": "7df64e208ed948e2baeb0c5a06a63099",
       "version_major": 2,
       "version_minor": 0
      },
      "text/plain": [
       "Map(basemap={'url': 'https://{s}.tile.openstreetmap.org/{z}/{x}/{y}.png', 'max_zoom': 19, 'attribution': 'Map …"
      ]
     },
     "metadata": {},
     "output_type": "display_data"
    }
   ],
   "source": [
    "# Naive standing water mask for single image\n",
    "# https://developers.google.com/earth-engine/sentinel1\n",
    "# db>0 --> scattering towards sensor\n",
    "# db<0 --> away from sensor\n",
    "# db<-6 --> standing water? (VV according to Schumann Moller 2015)\n",
    "#mask = image.gte(0) #very bright reflectors\n",
    "\n",
    "image = pre_image\n",
    "mask_surface_water = image.lte(-15)\n",
    "pre_surface_water = image.updateMask(mask_surface_water)\n",
    "\n",
    "m = ipyleaflet.Map(zoom=12, center=swap_coordinate_xy_for_location(p_houston), layout=dict(height='500px',width='1000px'))\n",
    "#dc = ipyleaflet.DrawControl()\n",
    "#map1.add_control(dc)\n",
    "viz_dif = {'bands':'VV', \n",
    "            'min': -25, \n",
    "            'max': 25, \n",
    "            'opacity': 1,\n",
    "            'palette': ['0000FF','00FFFF'],}\n",
    "\n",
    "left_layer = ipyleaflet.TileLayer() # OSM\n",
    "ee_image_object = pre_surface_water.visualize(**viz_dif)\n",
    "right_layer = ipyleaflet.TileLayer(url=GetTileLayerUrl(ee_image_object))\n",
    "\n",
    "control = SplitMapControl(left_layer=left_layer, right_layer=right_layer)\n",
    "m.add_control(control)\n",
    "m"
   ]
  },
  {
   "cell_type": "markdown",
   "metadata": {},
   "source": [
    "### Note that single threshold doesn't work well for images on different dates"
   ]
  },
  {
   "cell_type": "code",
   "execution_count": 18,
   "metadata": {},
   "outputs": [
    {
     "data": {
      "application/vnd.jupyter.widget-view+json": {
       "model_id": "2f9764e87b974426a46c117bc872f71a",
       "version_major": 2,
       "version_minor": 0
      },
      "text/plain": [
       "Map(basemap={'url': 'https://{s}.tile.openstreetmap.org/{z}/{x}/{y}.png', 'max_zoom': 19, 'attribution': 'Map …"
      ]
     },
     "metadata": {},
     "output_type": "display_data"
    }
   ],
   "source": [
    "# Naive standing water mask for single image\n",
    "# https://developers.google.com/earth-engine/sentinel1\n",
    "# db>0 --> scattering towards sensor\n",
    "# db<0 --> away from sensor\n",
    "# db<-6 --> standing water (according to Schumann Moller 2015)\n",
    "#mask = image.gte(0) #very bright reflectors\n",
    "# Would probably be best to composite temporal stack of pre-event imagery...\n",
    "\n",
    "image = pre_image\n",
    "mask_surface_water = image.lte(-15)\n",
    "pre_surface_water = image.updateMask(mask_surface_water)\n",
    "\n",
    "image = post_image\n",
    "mask_surface_water = image.lte(-12)\n",
    "post_surface_water = image.updateMask(mask_surface_water)\n",
    "\n",
    "m = ipyleaflet.Map(zoom=12, center=swap_coordinate_xy_for_location(p_houston), layout=dict(height='500px',width='1000px'))\n",
    "#dc = ipyleaflet.DrawControl()\n",
    "#map1.add_control(dc)\n",
    "viz_dif = {'bands':'VV', \n",
    "            'min': -25, \n",
    "            'max': 25, \n",
    "            'opacity': 1,\n",
    "            'palette': ['0000FF','00FFFF'],}\n",
    "\n",
    "#left_layer = ipyleaflet.TileLayer() # OSM\n",
    "ee_image_object = pre_surface_water.visualize(**viz_dif)\n",
    "left_layer = ipyleaflet.TileLayer(url=GetTileLayerUrl(ee_image_object))\n",
    "\n",
    "ee_image_object = post_surface_water.visualize(**viz_dif)\n",
    "right_layer = ipyleaflet.TileLayer(url=GetTileLayerUrl(ee_image_object))\n",
    "\n",
    "control = SplitMapControl(left_layer=left_layer, right_layer=right_layer)\n",
    "m.add_control(control)\n",
    "m"
   ]
  },
  {
   "cell_type": "markdown",
   "metadata": {},
   "source": [
    "### Display 'flood map' based on backscatter difference threshold"
   ]
  },
  {
   "cell_type": "code",
   "execution_count": 19,
   "metadata": {},
   "outputs": [
    {
     "data": {
      "application/vnd.jupyter.widget-view+json": {
       "model_id": "64b7aed7d2d240a6b40781701a4fbbb1",
       "version_major": 2,
       "version_minor": 0
      },
      "text/plain": [
       "Map(basemap={'url': 'https://{s}.tile.openstreetmap.org/{z}/{x}/{y}.png', 'max_zoom': 19, 'attribution': 'Map …"
      ]
     },
     "metadata": {},
     "output_type": "display_data"
    }
   ],
   "source": [
    "# Look at a difference image (large decreases in backscatter --> flooded open land, \n",
    "#increases in backscatter --> double bounce in areas of trees and urban coridoors\n",
    "diff_image = post_image.subtract(pre_image)\n",
    "\n",
    "#decreasers = diff_image.lte(0)\n",
    "#diff_image = diff_image.updateMask(decreasers)\n",
    "\n",
    "#increasers = diff_image.gte(0)\n",
    "increasers = diff_image.gte(8) #number in decibels so orders of magnitude\n",
    "diff_image = diff_image.updateMask(increasers)\n",
    "\n",
    "p_kingwood = (-95.18480,30.04940)\n",
    "m = ipyleaflet.Map(zoom=13, center=swap_coordinate_xy_for_location(p_kingwood), layout=dict(height='500px',width='1000px'))\n",
    "#dc = ipyleaflet.DrawControl()\n",
    "#map1.add_control(dc)\n",
    "viz_dif = {'bands':'VV', \n",
    "            'min': -10, \n",
    "            'max': 10, \n",
    "            'opacity': 1,\n",
    "            #'palette': ['0000FF','00FFFF'], #Cyan high values, blue are low values\n",
    "            'palette': ['0000FF', 'FFFFFF', 'FF0000'],  #BWR\n",
    "          } \n",
    "\n",
    "\n",
    "left_layer = ipyleaflet.TileLayer() # OSM\n",
    "ee_image_object = diff_image.visualize(**viz_dif)\n",
    "right_layer = ipyleaflet.TileLayer(url=GetTileLayerUrl(ee_image_object))\n",
    "\n",
    "control = SplitMapControl(left_layer=left_layer, right_layer=right_layer)\n",
    "m.add_control(control)\n",
    "m"
   ]
  },
  {
   "cell_type": "code",
   "execution_count": 20,
   "metadata": {},
   "outputs": [
    {
     "name": "stdout",
     "output_type": "stream",
     "text": [
      "uncomment to plot, a bit slow to render...\n"
     ]
    }
   ],
   "source": [
    "# Add some GeoJSON from digitial globe - note, this can be slow to render\n",
    "\n",
    "'''\n",
    "m = ipyleaflet.Map(zoom=12, center=swap_coordinate_xy_for_location(p_houston), layout=dict(height='500px',width='1000px'))\n",
    "#dc = ipyleaflet.DrawControl()\n",
    "#map1.add_control(dc)\n",
    "viz_params = {'bands':'VV', \n",
    "              'min': -25, \n",
    "              'max': 0, \n",
    "              'opacity': 1} # no opacity for this one\n",
    "\n",
    "\n",
    "left_layer = ipyleaflet.TileLayer() # OSM\n",
    "#ee_image_object = pre_image.visualize(**viz_params)\n",
    "#left_layer = ipyleaflet.TileLayer(url=GetTileLayerUrl(ee_image_object))\n",
    "ee_image_object = post_image.visualize(**viz_params)\n",
    "right_layer = ipyleaflet.TileLayer(url=GetTileLayerUrl(ee_image_object))\n",
    "\n",
    "\n",
    "with open('digitalglobe_crowdsourcing_hurricane_harvey_20170915.geojson', 'r') as f:\n",
    "    data = json.load(f)\n",
    "\n",
    "geo_json = ipyleaflet.GeoJSON(data=data) #style = {'color': 'green', 'opacity':1, 'weight':1.9, 'dashArray':'9', 'fillOpacity':0.1}\n",
    "m.add_layer(geo_json)\n",
    "\n",
    "control = SplitMapControl(left_layer=left_layer, right_layer=right_layer)\n",
    "m.add_control(control)\n",
    "#m\n",
    "'''\n",
    "print('uncomment to plot, a bit slow to render...')"
   ]
  },
  {
   "cell_type": "code",
   "execution_count": null,
   "metadata": {},
   "outputs": [],
   "source": []
  }
 ],
 "metadata": {
  "kernelspec": {
   "display_name": "Python 3",
   "language": "python",
   "name": "python3"
  },
  "language_info": {
   "codemirror_mode": {
    "name": "ipython",
    "version": 3
   },
   "file_extension": ".py",
   "mimetype": "text/x-python",
   "name": "python",
   "nbconvert_exporter": "python",
   "pygments_lexer": "ipython3",
   "version": "3.7.1"
  }
 },
 "nbformat": 4,
 "nbformat_minor": 2
}
